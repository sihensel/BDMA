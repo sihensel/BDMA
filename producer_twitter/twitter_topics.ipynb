{
 "cells": [
  {
   "attachments": {},
   "cell_type": "markdown",
   "metadata": {},
   "source": [
    "## Topics of human vs bot twitter accounts"
   ]
  },
  {
   "attachments": {},
   "cell_type": "markdown",
   "metadata": {},
   "source": [
    "Compare the topics (hashtags) of the last 15 tweets for 10 human and bot accounts each."
   ]
  },
  {
   "attachments": {},
   "cell_type": "markdown",
   "metadata": {},
   "source": [
    "#### Scrape Data"
   ]
  },
  {
   "cell_type": "code",
   "execution_count": 232,
   "metadata": {},
   "outputs": [],
   "source": [
    "import requests\n",
    "import re\n",
    "import pandas as pd\n",
    "import altair as alt\n",
    "from tweepy import Client\n",
    "\n",
    "from keys import bearer_token, consumer_key, consumer_secret, access_token, access_token_secret\n",
    "\n",
    "import warnings\n",
    "warnings.simplefilter(action='ignore', category=FutureWarning)"
   ]
  },
  {
   "cell_type": "code",
   "execution_count": 233,
   "metadata": {},
   "outputs": [],
   "source": [
    "client = Client(\n",
    "    bearer_token=bearer_token,\n",
    "    consumer_key=consumer_key,\n",
    "    consumer_secret=consumer_secret,\n",
    "    access_token=access_token,\n",
    "    access_token_secret=access_token_secret,\n",
    "    return_type=requests.Response,\n",
    "    wait_on_rate_limit=True\n",
    ")"
   ]
  },
  {
   "cell_type": "code",
   "execution_count": 234,
   "metadata": {},
   "outputs": [
    {
     "name": "stdout",
     "output_type": "stream",
     "text": [
      "Unique hashtags for human accounts: 95\n"
     ]
    }
   ],
   "source": [
    "human_ids = [\n",
    "    35010567,\n",
    "    1176309327331676160,\n",
    "    1341724669041250305,\n",
    "    19489239,\n",
    "    123618103,\n",
    "    1463283936931430408,\n",
    "    317200582,\n",
    "    890011658839441408,\n",
    "    1427197998744940549,\n",
    "    705982544,\n",
    "]\n",
    "human_hashtags = []\n",
    "\n",
    "for id in human_ids:\n",
    "    result = client.get_users_tweets(\n",
    "        id,\n",
    "        max_results=15\n",
    "    ).json()\n",
    "\n",
    "    for item in result[\"data\"]:\n",
    "        text = item[\"text\"]\n",
    "        for tag in re.findall(r\"#\\w+\", text):\n",
    "            human_hashtags.append(tag.lower())\n",
    "\n",
    "df_human = pd.DataFrame({\"hashtag\": human_hashtags})\n",
    "# group by hashtag and calculate count\n",
    "df_human = df_human.groupby(['hashtag'])['hashtag'].count().reset_index(name='count')\n",
    "\n",
    "print(\"Unique hashtags for human accounts: %s\" % len(df_human['hashtag']))\n"
   ]
  },
  {
   "cell_type": "code",
   "execution_count": 235,
   "metadata": {},
   "outputs": [
    {
     "name": "stdout",
     "output_type": "stream",
     "text": [
      "Unique hashtags for bot accounts: 177\n"
     ]
    }
   ],
   "source": [
    "bot_ids = [\n",
    "    62438818,\n",
    "    827113150772236288,\n",
    "    1406650146,\n",
    "    50367257,\n",
    "    1257116113898536961,\n",
    "    1406650146,\n",
    "    90466734,\n",
    "    1574491792346693663,\n",
    "    1451598702154379265,\n",
    "    882153804\n",
    "]\n",
    "bot_hashtags = []\n",
    "\n",
    "for id in bot_ids:\n",
    "    result = client.get_users_tweets(\n",
    "        id,\n",
    "        max_results=15\n",
    "    ).json()\n",
    "\n",
    "    for item in result[\"data\"]:\n",
    "        text = item[\"text\"]\n",
    "        for tag in re.findall(r\"#\\w+\", text):\n",
    "            bot_hashtags.append(tag.lower())\n",
    "\n",
    "df_bot = pd.DataFrame({\"hashtag\": bot_hashtags})\n",
    "# group by hashtag and calculate count\n",
    "df_bot = df_bot.groupby(['hashtag'])['hashtag'].count().reset_index(name='count')\n",
    "\n",
    "print(\"Unique hashtags for bot accounts: %s\" % len(df_bot['hashtag']))"
   ]
  },
  {
   "attachments": {},
   "cell_type": "markdown",
   "metadata": {},
   "source": [
    "#### Data Visualization"
   ]
  },
  {
   "cell_type": "code",
   "execution_count": 236,
   "metadata": {},
   "outputs": [
    {
     "data": {
      "text/html": [
       "\n",
       "<div id=\"altair-viz-5ee8cfd70bda4819b7e24653c9ece493\"></div>\n",
       "<script type=\"text/javascript\">\n",
       "  var VEGA_DEBUG = (typeof VEGA_DEBUG == \"undefined\") ? {} : VEGA_DEBUG;\n",
       "  (function(spec, embedOpt){\n",
       "    let outputDiv = document.currentScript.previousElementSibling;\n",
       "    if (outputDiv.id !== \"altair-viz-5ee8cfd70bda4819b7e24653c9ece493\") {\n",
       "      outputDiv = document.getElementById(\"altair-viz-5ee8cfd70bda4819b7e24653c9ece493\");\n",
       "    }\n",
       "    const paths = {\n",
       "      \"vega\": \"https://cdn.jsdelivr.net/npm//vega@5?noext\",\n",
       "      \"vega-lib\": \"https://cdn.jsdelivr.net/npm//vega-lib?noext\",\n",
       "      \"vega-lite\": \"https://cdn.jsdelivr.net/npm//vega-lite@4.17.0?noext\",\n",
       "      \"vega-embed\": \"https://cdn.jsdelivr.net/npm//vega-embed@6?noext\",\n",
       "    };\n",
       "\n",
       "    function maybeLoadScript(lib, version) {\n",
       "      var key = `${lib.replace(\"-\", \"\")}_version`;\n",
       "      return (VEGA_DEBUG[key] == version) ?\n",
       "        Promise.resolve(paths[lib]) :\n",
       "        new Promise(function(resolve, reject) {\n",
       "          var s = document.createElement('script');\n",
       "          document.getElementsByTagName(\"head\")[0].appendChild(s);\n",
       "          s.async = true;\n",
       "          s.onload = () => {\n",
       "            VEGA_DEBUG[key] = version;\n",
       "            return resolve(paths[lib]);\n",
       "          };\n",
       "          s.onerror = () => reject(`Error loading script: ${paths[lib]}`);\n",
       "          s.src = paths[lib];\n",
       "        });\n",
       "    }\n",
       "\n",
       "    function showError(err) {\n",
       "      outputDiv.innerHTML = `<div class=\"error\" style=\"color:red;\">${err}</div>`;\n",
       "      throw err;\n",
       "    }\n",
       "\n",
       "    function displayChart(vegaEmbed) {\n",
       "      vegaEmbed(outputDiv, spec, embedOpt)\n",
       "        .catch(err => showError(`Javascript Error: ${err.message}<br>This usually means there's a typo in your chart specification. See the javascript console for the full traceback.`));\n",
       "    }\n",
       "\n",
       "    if(typeof define === \"function\" && define.amd) {\n",
       "      requirejs.config({paths});\n",
       "      require([\"vega-embed\"], displayChart, err => showError(`Error loading script: ${err.message}`));\n",
       "    } else {\n",
       "      maybeLoadScript(\"vega\", \"5\")\n",
       "        .then(() => maybeLoadScript(\"vega-lite\", \"4.17.0\"))\n",
       "        .then(() => maybeLoadScript(\"vega-embed\", \"6\"))\n",
       "        .catch(showError)\n",
       "        .then(() => displayChart(vegaEmbed));\n",
       "    }\n",
       "  })({\"config\": {\"view\": {\"continuousWidth\": 400, \"continuousHeight\": 300}, \"title\": {\"anchor\": \"start\", \"color\": \"black\", \"fontSize\": 13}}, \"data\": {\"name\": \"data-09bafb0d036b9a63defd57708678ee65\"}, \"mark\": \"bar\", \"encoding\": {\"x\": {\"axis\": {\"title\": \"Count\"}, \"field\": \"count\", \"type\": \"quantitative\"}, \"y\": {\"axis\": {\"title\": \"Hashtag\"}, \"field\": \"hashtag\", \"sort\": \"-x\", \"type\": \"nominal\"}}, \"title\": \"Most Common Hashtags by Human Accounts\", \"transform\": [{\"window\": [{\"op\": \"rank\", \"field\": \"count\", \"as\": \"rank\"}], \"sort\": [{\"field\": \"count\", \"order\": \"descending\"}]}, {\"filter\": \"(datum.rank < 10)\"}], \"$schema\": \"https://vega.github.io/schema/vega-lite/v4.17.0.json\", \"datasets\": {\"data-09bafb0d036b9a63defd57708678ee65\": [{\"hashtag\": \"#america\", \"count\": 15}, {\"hashtag\": \"#atacmsforukraine\", \"count\": 1}, {\"hashtag\": \"#ausairforce\", \"count\": 1}, {\"hashtag\": \"#australia\", \"count\": 5}, {\"hashtag\": \"#bahmut\", \"count\": 10}, {\"hashtag\": \"#bakhmut\", \"count\": 15}, {\"hashtag\": \"#bandera\", \"count\": 1}, {\"hashtag\": \"#beprepared\", \"count\": 1}, {\"hashtag\": \"#bradley\", \"count\": 1}, {\"hashtag\": \"#breakingnews\", \"count\": 3}, {\"hashtag\": \"#brovary\", \"count\": 12}, {\"hashtag\": \"#business\", \"count\": 1}, {\"hashtag\": \"#canada\", \"count\": 20}, {\"hashtag\": \"#canberra\", \"count\": 1}, {\"hashtag\": \"#cdnpoli\", \"count\": 5}, {\"hashtag\": \"#china\", \"count\": 2}, {\"hashtag\": \"#churchofengland\", \"count\": 1}, {\"hashtag\": \"#congress\", \"count\": 1}, {\"hashtag\": \"#crypto\", \"count\": 1}, {\"hashtag\": \"#cyber\", \"count\": 1}, {\"hashtag\": \"#davos2023\", \"count\": 12}, {\"hashtag\": \"#denmark\", \"count\": 1}, {\"hashtag\": \"#donbas\", \"count\": 9}, {\"hashtag\": \"#europeanunion\", \"count\": 1}, {\"hashtag\": \"#f35\", \"count\": 1}, {\"hashtag\": \"#finland\", \"count\": 5}, {\"hashtag\": \"#food\", \"count\": 1}, {\"hashtag\": \"#france\", \"count\": 5}, {\"hashtag\": \"#ger\", \"count\": 1}, {\"hashtag\": \"#germany\", \"count\": 23}, {\"hashtag\": \"#goldenstatewarriors\", \"count\": 1}, {\"hashtag\": \"#hamas\", \"count\": 1}, {\"hashtag\": \"#health\", \"count\": 1}, {\"hashtag\": \"#hezbollah\", \"count\": 1}, {\"hashtag\": \"#humanrights\", \"count\": 1}, {\"hashtag\": \"#india\", \"count\": 1}, {\"hashtag\": \"#iran\", \"count\": 2}, {\"hashtag\": \"#iranianprotest\", \"count\": 1}, {\"hashtag\": \"#israel\", \"count\": 3}, {\"hashtag\": \"#jordan\", \"count\": 1}, {\"hashtag\": \"#jordanpoole\", \"count\": 1}, {\"hashtag\": \"#jpost\", \"count\": 1}, {\"hashtag\": \"#kherson\", \"count\": 3}, {\"hashtag\": \"#kreminna\", \"count\": 7}, {\"hashtag\": \"#kyiv\", \"count\": 5}, {\"hashtag\": \"#lancet\", \"count\": 1}, {\"hashtag\": \"#leopard\", \"count\": 1}, {\"hashtag\": \"#leopardsforukraine\", \"count\": 1}, {\"hashtag\": \"#moscow\", \"count\": 7}, {\"hashtag\": \"#nato\", \"count\": 13}, {\"hashtag\": \"#nodaysoff\", \"count\": 1}, {\"hashtag\": \"#norway\", \"count\": 5}, {\"hashtag\": \"#nuclear\", \"count\": 1}, {\"hashtag\": \"#othercountries\", \"count\": 1}, {\"hashtag\": \"#pakistan\", \"count\": 1}, {\"hashtag\": \"#palestine\", \"count\": 1}, {\"hashtag\": \"#palestinians\", \"count\": 1}, {\"hashtag\": \"#poland\", \"count\": 5}, {\"hashtag\": \"#polish\", \"count\": 1}, {\"hashtag\": \"#putin\", \"count\": 9}, {\"hashtag\": \"#putinswar\", \"count\": 10}, {\"hashtag\": \"#russia\", \"count\": 10}, {\"hashtag\": \"#russiaisateroriststate\", \"count\": 9}, {\"hashtag\": \"#russiaisaterroiststate\", \"count\": 1}, {\"hashtag\": \"#russiaisaterroriststate\", \"count\": 1}, {\"hashtag\": \"#russiaislosin\", \"count\": 8}, {\"hashtag\": \"#russian\", \"count\": 2}, {\"hashtag\": \"#russianarmy\", \"count\": 1}, {\"hashtag\": \"#russians\", \"count\": 1}, {\"hashtag\": \"#shorts\", \"count\": 1}, {\"hashtag\": \"#slavery\", \"count\": 1}, {\"hashtag\": \"#spain\", \"count\": 1}, {\"hashtag\": \"#sweden\", \"count\": 5}, {\"hashtag\": \"#templemount\", \"count\": 1}, {\"hashtag\": \"#terrorism\", \"count\": 1}, {\"hashtag\": \"#torture\", \"count\": 1}, {\"hashtag\": \"#u\", \"count\": 2}, {\"hashtag\": \"#uae\", \"count\": 1}, {\"hashtag\": \"#uk\", \"count\": 5}, {\"hashtag\": \"#ukrain\", \"count\": 9}, {\"hashtag\": \"#ukraina\", \"count\": 1}, {\"hashtag\": \"#ukraine\", \"count\": 24}, {\"hashtag\": \"#ukrainerussianwar\", \"count\": 2}, {\"hashtag\": \"#ukrainewar\", \"count\": 6}, {\"hashtag\": \"#ukrainewarnews\", \"count\": 12}, {\"hashtag\": \"#ukrainian\", \"count\": 1}, {\"hashtag\": \"#unisbroken\", \"count\": 1}, {\"hashtag\": \"#usa\", \"count\": 4}, {\"hashtag\": \"#western\", \"count\": 1}, {\"hashtag\": \"#women\", \"count\": 1}, {\"hashtag\": \"#womensrights\", \"count\": 1}, {\"hashtag\": \"#womensrightsarehumanrights\", \"count\": 1}, {\"hashtag\": \"#worldwarvii\", \"count\": 1}, {\"hashtag\": \"#yyc\", \"count\": 1}, {\"hashtag\": \"#zsu\", \"count\": 1}]}}, {\"mode\": \"vega-lite\"});\n",
       "</script>"
      ],
      "text/plain": [
       "alt.Chart(...)"
      ]
     },
     "execution_count": 236,
     "metadata": {},
     "output_type": "execute_result"
    }
   ],
   "source": [
    "chart_human = alt.Chart(df_human).mark_bar().encode(\n",
    "    x=alt.X('count:Q', axis=alt.Axis(title='Count')),\n",
    "    y=alt.Y('hashtag:N', axis=alt.Axis(title='Hashtag'), sort='-x'),\n",
    ").transform_window(\n",
    "    rank='rank(count)',\n",
    "    sort=[alt.SortField('count', order='descending')]\n",
    ").transform_filter(\n",
    "    (alt.datum.rank < 10)\n",
    ").properties(\n",
    "   title=\"Most Common Hashtags by Human Accounts\"\n",
    ").configure_title(\n",
    "   color=\"black\",\n",
    "   fontSize=13,\n",
    "   anchor=\"start\"\n",
    ")\n",
    "\n",
    "chart_human"
   ]
  },
  {
   "cell_type": "code",
   "execution_count": 237,
   "metadata": {},
   "outputs": [
    {
     "data": {
      "text/html": [
       "\n",
       "<div id=\"altair-viz-640c702d623f44c084eaaa83071746a9\"></div>\n",
       "<script type=\"text/javascript\">\n",
       "  var VEGA_DEBUG = (typeof VEGA_DEBUG == \"undefined\") ? {} : VEGA_DEBUG;\n",
       "  (function(spec, embedOpt){\n",
       "    let outputDiv = document.currentScript.previousElementSibling;\n",
       "    if (outputDiv.id !== \"altair-viz-640c702d623f44c084eaaa83071746a9\") {\n",
       "      outputDiv = document.getElementById(\"altair-viz-640c702d623f44c084eaaa83071746a9\");\n",
       "    }\n",
       "    const paths = {\n",
       "      \"vega\": \"https://cdn.jsdelivr.net/npm//vega@5?noext\",\n",
       "      \"vega-lib\": \"https://cdn.jsdelivr.net/npm//vega-lib?noext\",\n",
       "      \"vega-lite\": \"https://cdn.jsdelivr.net/npm//vega-lite@4.17.0?noext\",\n",
       "      \"vega-embed\": \"https://cdn.jsdelivr.net/npm//vega-embed@6?noext\",\n",
       "    };\n",
       "\n",
       "    function maybeLoadScript(lib, version) {\n",
       "      var key = `${lib.replace(\"-\", \"\")}_version`;\n",
       "      return (VEGA_DEBUG[key] == version) ?\n",
       "        Promise.resolve(paths[lib]) :\n",
       "        new Promise(function(resolve, reject) {\n",
       "          var s = document.createElement('script');\n",
       "          document.getElementsByTagName(\"head\")[0].appendChild(s);\n",
       "          s.async = true;\n",
       "          s.onload = () => {\n",
       "            VEGA_DEBUG[key] = version;\n",
       "            return resolve(paths[lib]);\n",
       "          };\n",
       "          s.onerror = () => reject(`Error loading script: ${paths[lib]}`);\n",
       "          s.src = paths[lib];\n",
       "        });\n",
       "    }\n",
       "\n",
       "    function showError(err) {\n",
       "      outputDiv.innerHTML = `<div class=\"error\" style=\"color:red;\">${err}</div>`;\n",
       "      throw err;\n",
       "    }\n",
       "\n",
       "    function displayChart(vegaEmbed) {\n",
       "      vegaEmbed(outputDiv, spec, embedOpt)\n",
       "        .catch(err => showError(`Javascript Error: ${err.message}<br>This usually means there's a typo in your chart specification. See the javascript console for the full traceback.`));\n",
       "    }\n",
       "\n",
       "    if(typeof define === \"function\" && define.amd) {\n",
       "      requirejs.config({paths});\n",
       "      require([\"vega-embed\"], displayChart, err => showError(`Error loading script: ${err.message}`));\n",
       "    } else {\n",
       "      maybeLoadScript(\"vega\", \"5\")\n",
       "        .then(() => maybeLoadScript(\"vega-lite\", \"4.17.0\"))\n",
       "        .then(() => maybeLoadScript(\"vega-embed\", \"6\"))\n",
       "        .catch(showError)\n",
       "        .then(() => displayChart(vegaEmbed));\n",
       "    }\n",
       "  })({\"config\": {\"view\": {\"continuousWidth\": 400, \"continuousHeight\": 300}, \"title\": {\"anchor\": \"start\", \"color\": \"black\", \"fontSize\": 13}}, \"data\": {\"name\": \"data-077570fec6dc9ca5cafb20fc3a1a94b1\"}, \"mark\": \"bar\", \"encoding\": {\"x\": {\"axis\": {\"title\": \"Count\"}, \"field\": \"count\", \"type\": \"quantitative\"}, \"y\": {\"axis\": {\"title\": \"Hashtag\"}, \"field\": \"hashtag\", \"sort\": \"-x\", \"type\": \"nominal\"}}, \"title\": \"Most Common Hashtags by Bot Accounts\", \"transform\": [{\"window\": [{\"op\": \"rank\", \"field\": \"count\", \"as\": \"rank\"}], \"sort\": [{\"field\": \"count\", \"order\": \"descending\"}]}, {\"filter\": \"(datum.rank < 10)\"}], \"$schema\": \"https://vega.github.io/schema/vega-lite/v4.17.0.json\", \"datasets\": {\"data-077570fec6dc9ca5cafb20fc3a1a94b1\": [{\"hashtag\": \"#4ir\", \"count\": 1}, {\"hashtag\": \"#activism\", \"count\": 1}, {\"hashtag\": \"#agi\", \"count\": 1}, {\"hashtag\": \"#animation\", \"count\": 1}, {\"hashtag\": \"#anmnews\", \"count\": 12}, {\"hashtag\": \"#artificialintelligence\", \"count\": 1}, {\"hashtag\": \"#atriskyouth\", \"count\": 1}, {\"hashtag\": \"#bach\", \"count\": 1}, {\"hashtag\": \"#bakhmut\", \"count\": 3}, {\"hashtag\": \"#banglanews\", \"count\": 7}, {\"hashtag\": \"#baroque\", \"count\": 1}, {\"hashtag\": \"#belarus\", \"count\": 3}, {\"hashtag\": \"#bengal\", \"count\": 7}, {\"hashtag\": \"#bengalinews\", \"count\": 7}, {\"hashtag\": \"#bengalinewslive\", \"count\": 7}, {\"hashtag\": \"#bjp\", \"count\": 1}, {\"hashtag\": \"#boycottchinaproducts\", \"count\": 1}, {\"hashtag\": \"#boycottturkey\", \"count\": 2}, {\"hashtag\": \"#brazil\", \"count\": 1}, {\"hashtag\": \"#breakingnews\", \"count\": 7}, {\"hashtag\": \"#budget2023\", \"count\": 2}, {\"hashtag\": \"#censorship\", \"count\": 11}, {\"hashtag\": \"#china\", \"count\": 1}, {\"hashtag\": \"#chinaaggression\", \"count\": 1}, {\"hashtag\": \"#chinacrimes\", \"count\": 1}, {\"hashtag\": \"#christmas\", \"count\": 1}, {\"hashtag\": \"#classroom\", \"count\": 1}, {\"hashtag\": \"#climate\", \"count\": 3}, {\"hashtag\": \"#climatechange\", \"count\": 2}, {\"hashtag\": \"#climatecrisis\", \"count\": 1}, {\"hashtag\": \"#climateeducation\", \"count\": 2}, {\"hashtag\": \"#concert\", \"count\": 1}, {\"hashtag\": \"#cop27\", \"count\": 1}, {\"hashtag\": \"#costarica\", \"count\": 1}, {\"hashtag\": \"#covid\", \"count\": 1}, {\"hashtag\": \"#crash\", \"count\": 1}, {\"hashtag\": \"#creators\", \"count\": 1}, {\"hashtag\": \"#cricket\", \"count\": 5}, {\"hashtag\": \"#cricketlovers\", \"count\": 1}, {\"hashtag\": \"#culture\", \"count\": 1}, {\"hashtag\": \"#dailynews\", \"count\": 5}, {\"hashtag\": \"#dailynewsupdate\", \"count\": 3}, {\"hashtag\": \"#dei\", \"count\": 1}, {\"hashtag\": \"#desserts\", \"count\": 1}, {\"hashtag\": \"#dictatorship\", \"count\": 11}, {\"hashtag\": \"#dnipro\", \"count\": 2}, {\"hashtag\": \"#documentary\", \"count\": 1}, {\"hashtag\": \"#ensemble\", \"count\": 1}, {\"hashtag\": \"#environment\", \"count\": 1}, {\"hashtag\": \"#eurasia\", \"count\": 1}, {\"hashtag\": \"#family\", \"count\": 1}, {\"hashtag\": \"#film\", \"count\": 4}, {\"hashtag\": \"#films\", \"count\": 1}, {\"hashtag\": \"#freenavalny\", \"count\": 6}, {\"hashtag\": \"#futurist\", \"count\": 1}, {\"hashtag\": \"#generalbudget\", \"count\": 2}, {\"hashtag\": \"#global\", \"count\": 1}, {\"hashtag\": \"#globallearning\", \"count\": 1}, {\"hashtag\": \"#harvard\", \"count\": 1}, {\"hashtag\": \"#hatred\", \"count\": 1}, {\"hashtag\": \"#haveyouwatched\", \"count\": 1}, {\"hashtag\": \"#helicoptercrash\", \"count\": 1}, {\"hashtag\": \"#hightech\", \"count\": 1}, {\"hashtag\": \"#human\", \"count\": 1}, {\"hashtag\": \"#humanrights\", \"count\": 2}, {\"hashtag\": \"#importantnews\", \"count\": 7}, {\"hashtag\": \"#importentnews\", \"count\": 5}, {\"hashtag\": \"#india\", \"count\": 9}, {\"hashtag\": \"#indian\", \"count\": 3}, {\"hashtag\": \"#indiavsnewzealand\", \"count\": 2}, {\"hashtag\": \"#indiavsnewzeland\", \"count\": 2}, {\"hashtag\": \"#indiavsnz\", \"count\": 2}, {\"hashtag\": \"#indonesia\", \"count\": 1}, {\"hashtag\": \"#indvsnzlive\", \"count\": 1}, {\"hashtag\": \"#inevitable\", \"count\": 1}, {\"hashtag\": \"#inflation\", \"count\": 1}, {\"hashtag\": \"#israel\", \"count\": 1}, {\"hashtag\": \"#istandwithukraine\", \"count\": 2}, {\"hashtag\": \"#italy\", \"count\": 1}, {\"hashtag\": \"#japan\", \"count\": 1}, {\"hashtag\": \"#kenyan\", \"count\": 1}, {\"hashtag\": \"#kiev\", \"count\": 3}, {\"hashtag\": \"#kolkata\", \"count\": 7}, {\"hashtag\": \"#kolkatanews\", \"count\": 3}, {\"hashtag\": \"#kremenchuk\", \"count\": 1}, {\"hashtag\": \"#kurds\", \"count\": 2}, {\"hashtag\": \"#kyiv\", \"count\": 4}, {\"hashtag\": \"#latestnews\", \"count\": 7}, {\"hashtag\": \"#lavrov\", \"count\": 1}, {\"hashtag\": \"#leningrad\", \"count\": 1}, {\"hashtag\": \"#marinka\", \"count\": 1}, {\"hashtag\": \"#meta\", \"count\": 1}, {\"hashtag\": \"#metaverse\", \"count\": 1}, {\"hashtag\": \"#minsk\", \"count\": 2}, {\"hashtag\": \"#mithunchakraborty\", \"count\": 1}, {\"hashtag\": \"#mohammedsiraj\", \"count\": 1}, {\"hashtag\": \"#moscow\", \"count\": 1}, {\"hashtag\": \"#music\", \"count\": 1}, {\"hashtag\": \"#nature\", \"count\": 1}, {\"hashtag\": \"#netzero\", \"count\": 1}, {\"hashtag\": \"#new\", \"count\": 1}, {\"hashtag\": \"#news\", \"count\": 7}, {\"hashtag\": \"#newsupdate\", \"count\": 2}, {\"hashtag\": \"#newsupdates\", \"count\": 5}, {\"hashtag\": \"#newzealand\", \"count\": 4}, {\"hashtag\": \"#newzealandcricket\", \"count\": 2}, {\"hashtag\": \"#newzelandcricket\", \"count\": 2}, {\"hashtag\": \"#opera\", \"count\": 1}, {\"hashtag\": \"#pet\", \"count\": 1}, {\"hashtag\": \"#planet\", \"count\": 2}, {\"hashtag\": \"#planetclassroom\", \"count\": 2}, {\"hashtag\": \"#planetclassroomnetwork\", \"count\": 1}, {\"hashtag\": \"#politicalchange\", \"count\": 1}, {\"hashtag\": \"#putin\", \"count\": 2}, {\"hashtag\": \"#putinhitler\", \"count\": 1}, {\"hashtag\": \"#putinisawarcriminal\", \"count\": 1}, {\"hashtag\": \"#putinswar\", \"count\": 7}, {\"hashtag\": \"#racetonetzero\", \"count\": 6}, {\"hashtag\": \"#ranjitrophy\", \"count\": 1}, {\"hashtag\": \"#russia\", \"count\": 14}, {\"hashtag\": \"#russiaaggression\", \"count\": 7}, {\"hashtag\": \"#russiaisanazistate\", \"count\": 2}, {\"hashtag\": \"#russiaisaterroriststate\", \"count\": 7}, {\"hashtag\": \"#russiaiscollapsing\", \"count\": 1}, {\"hashtag\": \"#russiancrimes\", \"count\": 7}, {\"hashtag\": \"#russianukrainianwar\", \"count\": 1}, {\"hashtag\": \"#russianwarcrimes\", \"count\": 8}, {\"hashtag\": \"#russiaukrainewar\", \"count\": 5}, {\"hashtag\": \"#samachar\", \"count\": 5}, {\"hashtag\": \"#schools\", \"count\": 1}, {\"hashtag\": \"#sdg\", \"count\": 3}, {\"hashtag\": \"#serbia\", \"count\": 1}, {\"hashtag\": \"#slavaukrainii\", \"count\": 2}, {\"hashtag\": \"#slavaukra\\u00efni\", \"count\": 4}, {\"hashtag\": \"#soledar\", \"count\": 2}, {\"hashtag\": \"#sports\", \"count\": 3}, {\"hashtag\": \"#sportsnews\", \"count\": 1}, {\"hashtag\": \"#standwithukraine\", \"count\": 7}, {\"hashtag\": \"#story\", \"count\": 1}, {\"hashtag\": \"#stpetersburg\", \"count\": 1}, {\"hashtag\": \"#subscribeforfree\", \"count\": 2}, {\"hashtag\": \"#sulawesi\", \"count\": 1}, {\"hashtag\": \"#surveillance\", \"count\": 11}, {\"hashtag\": \"#sustainability\", \"count\": 1}, {\"hashtag\": \"#syria\", \"count\": 2}, {\"hashtag\": \"#tcf\", \"count\": 2}, {\"hashtag\": \"#teamindia\", \"count\": 1}, {\"hashtag\": \"#technology\", \"count\": 2}, {\"hashtag\": \"#thinkchangeforum\", \"count\": 2}, {\"hashtag\": \"#tmc\", \"count\": 1}, {\"hashtag\": \"#trendingnews\", \"count\": 7}, {\"hashtag\": \"#trendingnewstoday\", \"count\": 7}, {\"hashtag\": \"#tsikhanouskaya\", \"count\": 1}, {\"hashtag\": \"#turkey\", \"count\": 2}, {\"hashtag\": \"#turkeyinvasion\", \"count\": 2}, {\"hashtag\": \"#turkeyoccupation\", \"count\": 2}, {\"hashtag\": \"#turkeywarcrimes\", \"count\": 2}, {\"hashtag\": \"#ukraina\", \"count\": 1}, {\"hashtag\": \"#ukraine\", \"count\": 22}, {\"hashtag\": \"#ukrainefrontlines\", \"count\": 6}, {\"hashtag\": \"#ukrainerussianwar\", \"count\": 3}, {\"hashtag\": \"#ukrainerussiawar\", \"count\": 3}, {\"hashtag\": \"#ukrainetoday\", \"count\": 1}, {\"hashtag\": \"#ukrainewar\", \"count\": 37}, {\"hashtag\": \"#ukrainewarnews\", \"count\": 1}, {\"hashtag\": \"#ukrainewarvideos\", \"count\": 1}, {\"hashtag\": \"#ukrainian\", \"count\": 1}, {\"hashtag\": \"#videos\", \"count\": 1}, {\"hashtag\": \"#war\", \"count\": 31}, {\"hashtag\": \"#westbengal\", \"count\": 4}, {\"hashtag\": \"#wildlife\", \"count\": 1}, {\"hashtag\": \"#womensrights\", \"count\": 1}, {\"hashtag\": \"#youth2030\", \"count\": 1}, {\"hashtag\": \"#youthvoices\", \"count\": 1}, {\"hashtag\": \"#youtube\", \"count\": 1}, {\"hashtag\": \"#zelensky\", \"count\": 2}, {\"hashtag\": \"#zelenskyy\", \"count\": 1}]}}, {\"mode\": \"vega-lite\"});\n",
       "</script>"
      ],
      "text/plain": [
       "alt.Chart(...)"
      ]
     },
     "execution_count": 237,
     "metadata": {},
     "output_type": "execute_result"
    }
   ],
   "source": [
    "chart_bot = alt.Chart(df_bot).mark_bar().encode(\n",
    "    x=alt.X('count:Q', axis=alt.Axis(title='Count')),\n",
    "    y=alt.Y('hashtag:N', axis=alt.Axis(title='Hashtag'), sort='-x'),\n",
    ").transform_window(\n",
    "    rank='rank(count)',\n",
    "    sort=[alt.SortField('count', order='descending')]\n",
    ").transform_filter(\n",
    "    (alt.datum.rank < 10)\n",
    ").properties(\n",
    "   title=\"Most Common Hashtags by Bot Accounts\"\n",
    ").configure_title(\n",
    "   color=\"black\",\n",
    "   fontSize=13,\n",
    "   anchor=\"start\"\n",
    ")\n",
    "\n",
    "chart_bot"
   ]
  }
 ],
 "metadata": {
  "kernelspec": {
   "display_name": "Python 3",
   "language": "python",
   "name": "python3"
  },
  "language_info": {
   "codemirror_mode": {
    "name": "ipython",
    "version": 3
   },
   "file_extension": ".py",
   "mimetype": "text/x-python",
   "name": "python",
   "nbconvert_exporter": "python",
   "pygments_lexer": "ipython3",
   "version": "3.10.9"
  },
  "orig_nbformat": 4,
  "vscode": {
   "interpreter": {
    "hash": "e7370f93d1d0cde622a1f8e1c04877d8463912d04d973331ad4851f04de6915a"
   }
  }
 },
 "nbformat": 4,
 "nbformat_minor": 2
}
