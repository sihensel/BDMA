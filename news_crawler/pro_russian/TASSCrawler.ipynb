{
 "cells": [
  {
   "cell_type": "code",
   "execution_count": 79,
   "metadata": {},
   "outputs": [],
   "source": [
    "import pandas as pd\n",
    "\n",
    "import requests\n",
    "from bs4 import BeautifulSoup\n",
    "\n",
    "import pandas\n",
    "import numpy as np\n",
    "\n",
    "import datetime\n",
    "from pytz import timezone\n",
    "import time"
   ]
  },
  {
   "cell_type": "code",
   "execution_count": 80,
   "metadata": {},
   "outputs": [],
   "source": [
    "URL = 'https://tass.com/ukraine'"
   ]
  },
  {
   "cell_type": "code",
   "execution_count": 81,
   "metadata": {},
   "outputs": [],
   "source": [
    "html = requests.get(URL)"
   ]
  },
  {
   "cell_type": "code",
   "execution_count": 82,
   "metadata": {},
   "outputs": [
    {
     "data": {
      "text/plain": [
       "200"
      ]
     },
     "execution_count": 82,
     "metadata": {},
     "output_type": "execute_result"
    }
   ],
   "source": [
    "html.status_code"
   ]
  },
  {
   "cell_type": "code",
   "execution_count": 83,
   "metadata": {},
   "outputs": [],
   "source": [
    "soup = BeautifulSoup(html.text, 'html.parser')"
   ]
  },
  {
   "cell_type": "code",
   "execution_count": 84,
   "metadata": {},
   "outputs": [],
   "source": [
    "# create empty array\n",
    "headLineInfo = []\n",
    "\n",
    "# use for loop to write quotes in quotes_text with append\n",
    "for i in soup.find('div', {'class': 'news-list-content__news-block'}).find_all(\"div\", {\"class\": \"news-content news-content_default\"}):\n",
    "    storyTitle = i.find('span', {'class':'news-content__title'})\n",
    "    timeStamp = i.find('div', {'class':'news-content__date'}).find('dateformat').get(\"time\")\n",
    "    href = \"https://tass.com\" + i.find('a', href=True).get(\"href\")\n",
    "\n",
    "    if(storyTitle is None):\n",
    "        storyTitle = None\n",
    "    else:\n",
    "        storyTitle = storyTitle.text\n",
    "    if(timeStamp is None):\n",
    "        timeStamp = None\n",
    "    else:\n",
    "        timeStamp = time.ctime(int(timeStamp))\n",
    "    if(href is None):\n",
    "        href = None\n",
    "\n",
    "    headLineInfo.append([storyTitle, timeStamp, href])"
   ]
  },
  {
   "cell_type": "code",
   "execution_count": 85,
   "metadata": {},
   "outputs": [
    {
     "data": {
      "text/plain": [
       "[['French politician calls EU `mafia’ for its uncontrolled arms shipments to Ukraine',\n",
       "  'Thu Dec 22 08:04:19 2022',\n",
       "  'https://tass.com/world/1554231'],\n",
       " ['Training Ukrainian troops to use Patriot systems will take some time, says Biden',\n",
       "  'Thu Dec 22 06:55:33 2022',\n",
       "  'https://tass.com/world/1554181'],\n",
       " ['Zelensky hands over Ukrainian flag to US House Speaker Pelosi after Congress speech',\n",
       "  'Thu Dec 22 06:52:48 2022',\n",
       "  'https://tass.com/world/1554185'],\n",
       " ['Biden says Patriot systems’ supplies to Ukraine will not lead to escalation',\n",
       "  'Thu Dec 22 06:51:35 2022',\n",
       "  'https://tass.com/world/1554189'],\n",
       " ['Zelensky says Ukrainian soldiers ‘can perfectly operate American tanks and planes’',\n",
       "  'Thu Dec 22 06:43:35 2022',\n",
       "  'https://tass.com/world/1554195'],\n",
       " ['US allocates extra $374mln for humanitarian aid to Ukraine — Biden',\n",
       "  'Thu Dec 22 06:41:14 2022',\n",
       "  'https://tass.com/world/1554183'],\n",
       " ['Zelensky may continue aid-raising tour in other countries — ex-LPR ambassador',\n",
       "  'Thu Dec 22 06:35:25 2022',\n",
       "  'https://tass.com/world/1554191'],\n",
       " ['Ukraine to cease to exist if not decolonized — former LPR ambassador',\n",
       "  'Thu Dec 22 06:30:42 2022',\n",
       "  'https://tass.com/world/1554193'],\n",
       " ['Zelensky says discussed his peace plan with Biden',\n",
       "  'Thu Dec 22 06:29:40 2022',\n",
       "  'https://tass.com/world/1554197'],\n",
       " ['New aid package for Kiev includes HARM missiles, HIMARS rockets, shells — Washington',\n",
       "  'Wed Dec 21 19:36:47 2022',\n",
       "  'https://tass.com/world/1554113']]"
      ]
     },
     "execution_count": 85,
     "metadata": {},
     "output_type": "execute_result"
    }
   ],
   "source": [
    "headLineInfo"
   ]
  },
  {
   "cell_type": "code",
   "execution_count": 86,
   "metadata": {},
   "outputs": [],
   "source": [
    "dataframe = pd.DataFrame(headLineInfo, columns=[\"Title\", \"Time\", \"Link\"])"
   ]
  },
  {
   "cell_type": "code",
   "execution_count": 87,
   "metadata": {},
   "outputs": [],
   "source": [
    "# data cleanup\n",
    "dataframe[\"Title\"] = dataframe[\"Title\"].str.replace(\"\\n\\t\\t\\t\\t\\t\\t\\t\\t\", \"\")"
   ]
  },
  {
   "cell_type": "code",
   "execution_count": 88,
   "metadata": {},
   "outputs": [
    {
     "data": {
      "text/plain": [
       "0    Thu Dec 22 08:04:19 2022\n",
       "1    Thu Dec 22 06:55:33 2022\n",
       "2    Thu Dec 22 06:52:48 2022\n",
       "Name: Time, dtype: object"
      ]
     },
     "execution_count": 88,
     "metadata": {},
     "output_type": "execute_result"
    }
   ],
   "source": [
    "dataframe[\"Time\"].head(3)"
   ]
  },
  {
   "cell_type": "code",
   "execution_count": 89,
   "metadata": {},
   "outputs": [
    {
     "data": {
      "text/plain": [
       "Timestamp('2022-12-22 06:55:33+0000', tz='UTC')"
      ]
     },
     "execution_count": 89,
     "metadata": {},
     "output_type": "execute_result"
    }
   ],
   "source": [
    "dataframe['Time'] = pd.to_datetime(dataframe['Time'])\n",
    "dataframe['Time'][1].replace(tzinfo=timezone('UTC'))"
   ]
  },
  {
   "cell_type": "code",
   "execution_count": 90,
   "metadata": {},
   "outputs": [
    {
     "data": {
      "text/html": [
       "<div>\n",
       "<style scoped>\n",
       "    .dataframe tbody tr th:only-of-type {\n",
       "        vertical-align: middle;\n",
       "    }\n",
       "\n",
       "    .dataframe tbody tr th {\n",
       "        vertical-align: top;\n",
       "    }\n",
       "\n",
       "    .dataframe thead th {\n",
       "        text-align: right;\n",
       "    }\n",
       "</style>\n",
       "<table border=\"1\" class=\"dataframe\">\n",
       "  <thead>\n",
       "    <tr style=\"text-align: right;\">\n",
       "      <th></th>\n",
       "      <th>Title</th>\n",
       "      <th>Time</th>\n",
       "      <th>Link</th>\n",
       "    </tr>\n",
       "  </thead>\n",
       "  <tbody>\n",
       "    <tr>\n",
       "      <th>0</th>\n",
       "      <td>French politician calls EU `mafia’ for its unc...</td>\n",
       "      <td>2022-12-22 08:04:19</td>\n",
       "      <td>https://tass.com/world/1554231</td>\n",
       "    </tr>\n",
       "    <tr>\n",
       "      <th>1</th>\n",
       "      <td>Training Ukrainian troops to use Patriot syste...</td>\n",
       "      <td>2022-12-22 06:55:33</td>\n",
       "      <td>https://tass.com/world/1554181</td>\n",
       "    </tr>\n",
       "    <tr>\n",
       "      <th>2</th>\n",
       "      <td>Zelensky hands over Ukrainian flag to US House...</td>\n",
       "      <td>2022-12-22 06:52:48</td>\n",
       "      <td>https://tass.com/world/1554185</td>\n",
       "    </tr>\n",
       "    <tr>\n",
       "      <th>3</th>\n",
       "      <td>Biden says Patriot systems’ supplies to Ukrain...</td>\n",
       "      <td>2022-12-22 06:51:35</td>\n",
       "      <td>https://tass.com/world/1554189</td>\n",
       "    </tr>\n",
       "    <tr>\n",
       "      <th>4</th>\n",
       "      <td>Zelensky says Ukrainian soldiers ‘can perfectl...</td>\n",
       "      <td>2022-12-22 06:43:35</td>\n",
       "      <td>https://tass.com/world/1554195</td>\n",
       "    </tr>\n",
       "    <tr>\n",
       "      <th>5</th>\n",
       "      <td>US allocates extra $374mln for humanitarian ai...</td>\n",
       "      <td>2022-12-22 06:41:14</td>\n",
       "      <td>https://tass.com/world/1554183</td>\n",
       "    </tr>\n",
       "    <tr>\n",
       "      <th>6</th>\n",
       "      <td>Zelensky may continue aid-raising tour in othe...</td>\n",
       "      <td>2022-12-22 06:35:25</td>\n",
       "      <td>https://tass.com/world/1554191</td>\n",
       "    </tr>\n",
       "    <tr>\n",
       "      <th>7</th>\n",
       "      <td>Ukraine to cease to exist if not decolonized —...</td>\n",
       "      <td>2022-12-22 06:30:42</td>\n",
       "      <td>https://tass.com/world/1554193</td>\n",
       "    </tr>\n",
       "    <tr>\n",
       "      <th>8</th>\n",
       "      <td>Zelensky says discussed his peace plan with Biden</td>\n",
       "      <td>2022-12-22 06:29:40</td>\n",
       "      <td>https://tass.com/world/1554197</td>\n",
       "    </tr>\n",
       "    <tr>\n",
       "      <th>9</th>\n",
       "      <td>New aid package for Kiev includes HARM missile...</td>\n",
       "      <td>2022-12-21 19:36:47</td>\n",
       "      <td>https://tass.com/world/1554113</td>\n",
       "    </tr>\n",
       "  </tbody>\n",
       "</table>\n",
       "</div>"
      ],
      "text/plain": [
       "                                               Title                Time  \\\n",
       "0  French politician calls EU `mafia’ for its unc... 2022-12-22 08:04:19   \n",
       "1  Training Ukrainian troops to use Patriot syste... 2022-12-22 06:55:33   \n",
       "2  Zelensky hands over Ukrainian flag to US House... 2022-12-22 06:52:48   \n",
       "3  Biden says Patriot systems’ supplies to Ukrain... 2022-12-22 06:51:35   \n",
       "4  Zelensky says Ukrainian soldiers ‘can perfectl... 2022-12-22 06:43:35   \n",
       "5  US allocates extra $374mln for humanitarian ai... 2022-12-22 06:41:14   \n",
       "6  Zelensky may continue aid-raising tour in othe... 2022-12-22 06:35:25   \n",
       "7  Ukraine to cease to exist if not decolonized —... 2022-12-22 06:30:42   \n",
       "8  Zelensky says discussed his peace plan with Biden 2022-12-22 06:29:40   \n",
       "9  New aid package for Kiev includes HARM missile... 2022-12-21 19:36:47   \n",
       "\n",
       "                             Link  \n",
       "0  https://tass.com/world/1554231  \n",
       "1  https://tass.com/world/1554181  \n",
       "2  https://tass.com/world/1554185  \n",
       "3  https://tass.com/world/1554189  \n",
       "4  https://tass.com/world/1554195  \n",
       "5  https://tass.com/world/1554183  \n",
       "6  https://tass.com/world/1554191  \n",
       "7  https://tass.com/world/1554193  \n",
       "8  https://tass.com/world/1554197  \n",
       "9  https://tass.com/world/1554113  "
      ]
     },
     "execution_count": 90,
     "metadata": {},
     "output_type": "execute_result"
    }
   ],
   "source": [
    "dataframe"
   ]
  }
 ],
 "metadata": {
  "kernelspec": {
   "display_name": "deepLearning",
   "language": "python",
   "name": "python3"
  },
  "language_info": {
   "codemirror_mode": {
    "name": "ipython",
    "version": 3
   },
   "file_extension": ".py",
   "mimetype": "text/x-python",
   "name": "python",
   "nbconvert_exporter": "python",
   "pygments_lexer": "ipython3",
   "version": "3.9.13"
  },
  "orig_nbformat": 4,
  "vscode": {
   "interpreter": {
    "hash": "fda649757dd37c0723859eddd77b6b678d843ed521ea7a4e36b7c2ac53d24c7f"
   }
  }
 },
 "nbformat": 4,
 "nbformat_minor": 2
}
