{
 "cells": [
  {
   "cell_type": "code",
   "execution_count": 1,
   "metadata": {},
   "outputs": [],
   "source": [
    "import pandas as pd\n",
    "\n",
    "import requests\n",
    "from bs4 import BeautifulSoup\n",
    "\n",
    "import pandas\n",
    "import numpy as np\n",
    "\n",
    "import datetime\n",
    "from pytz import timezone\n",
    "import time"
   ]
  },
  {
   "cell_type": "code",
   "execution_count": 2,
   "metadata": {},
   "outputs": [],
   "source": [
    "URL = 'https://www.themoscowtimes.com/ukraine-war'"
   ]
  },
  {
   "cell_type": "code",
   "execution_count": 3,
   "metadata": {},
   "outputs": [],
   "source": [
    "html = requests.get(URL)"
   ]
  },
  {
   "cell_type": "code",
   "execution_count": 4,
   "metadata": {},
   "outputs": [
    {
     "data": {
      "text/plain": [
       "200"
      ]
     },
     "execution_count": 4,
     "metadata": {},
     "output_type": "execute_result"
    }
   ],
   "source": [
    "html.status_code"
   ]
  },
  {
   "cell_type": "code",
   "execution_count": 5,
   "metadata": {},
   "outputs": [],
   "source": [
    "soup = BeautifulSoup(html.text, 'html.parser')"
   ]
  },
  {
   "cell_type": "code",
   "execution_count": 19,
   "metadata": {},
   "outputs": [],
   "source": [
    "# create empty array\n",
    "headLineInfo = []\n",
    "\n",
    "# use for loop to write quotes in quotes_text with append\n",
    "for i in soup.find('div', {'class': 'sidebar__sticky'}).find_all(\"li\", {\"class\": \"listed-articles__item\"}):\n",
    "    storyTitle = i.find('h5', {'class':'article-excerpt-tiny__headline'})\n",
    "    timeStamp = i.find('time', {'class':'article-excerpt-tiny__time'}).get(\"datetime\")\n",
    "    href = i.find('a', href=True).get(\"href\")\n",
    "\n",
    "    if(storyTitle is None):\n",
    "        storyTitle = None\n",
    "    else:\n",
    "        storyTitle = storyTitle.text\n",
    "    if(timeStamp is None):\n",
    "        timeStamp = None\n",
    "    if(href is None):\n",
    "        href = None\n",
    "\n",
    "    headLineInfo.append([storyTitle, timeStamp, href])"
   ]
  },
  {
   "cell_type": "code",
   "execution_count": 20,
   "metadata": {},
   "outputs": [
    {
     "data": {
      "text/plain": [
       "[['\\n\\t\\t\\tRussian Army Chief Says Focus Is Now on Liberation of   Donetsk\\t\\t',\n",
       "  '2022-12-22T17:37:10+03:00',\n",
       "  'https://www.themoscowtimes.com/2022/12/22/russian-army-chief-says-focus-is-now-on-liberation-of-donetsk-a79780'],\n",
       " ['\\n\\t\\t\\tDocumentaries on Russian Opposition, Climate Change Shortlisted for Oscars\\t\\t',\n",
       "  '2022-12-22T15:33:00+03:00',\n",
       "  'https://www.themoscowtimes.com/2022/12/22/documentaries-on-russian-opposition-climate-change-shortlisted-for-oscars-a79775'],\n",
       " [\"\\n\\t\\t\\tGeorgia's Ailing Ex-Leader Saakashvili Appears Gaunt in Court\\t\\t\",\n",
       "  '2022-12-22T15:09:34+03:00',\n",
       "  'https://www.themoscowtimes.com/2022/12/22/georgias-ailing-ex-leader-saakashvili-appears-gaunt-in-court-a79777'],\n",
       " ['\\n\\t\\t\\tArmenia PM Blames Russian Peacekeepers for Karabakh Blockade\\t\\t',\n",
       "  '2022-12-22T14:30:00+03:00',\n",
       "  'https://www.themoscowtimes.com/2022/12/22/armenia-pm-blames-russian-peacekeepers-for-karabakh-blockade-a79774'],\n",
       " ['\\n\\t\\t\\t‘Empty Words’: Russian Officials Unswayed By Zelensky’s U.S. Visit\\t\\t',\n",
       "  '2022-12-22T12:58:00+03:00',\n",
       "  'https://www.themoscowtimes.com/2022/12/22/empty-words-russian-officials-unswayed-by-zelenskys-us-visit-a79771'],\n",
       " ['\\n\\t\\t\\tFormer Russian Space Chief Wounded in Ukraine Shelling\\t\\t',\n",
       "  '2022-12-22T10:54:00+03:00',\n",
       "  'https://www.themoscowtimes.com/2022/12/22/former-russian-space-chief-wounded-in-ukraine-shelling-a79772'],\n",
       " [\"\\n\\t\\t\\tZelensky Says U.S. Aid Not 'Charity' on Triumphant U.S. Visit\\t\\t\",\n",
       "  '2022-12-22T09:00:00+03:00',\n",
       "  'https://www.themoscowtimes.com/2022/12/22/us-to-provide-patriot-missile-system-to-ukraine-in-significant-win-for-kyiv-a79769']]"
      ]
     },
     "execution_count": 20,
     "metadata": {},
     "output_type": "execute_result"
    }
   ],
   "source": [
    "headLineInfo"
   ]
  },
  {
   "cell_type": "code",
   "execution_count": 28,
   "metadata": {},
   "outputs": [],
   "source": [
    "dataframe = pd.DataFrame(headLineInfo, columns=[\"Title\", \"Time\", \"Link\"])"
   ]
  },
  {
   "cell_type": "code",
   "execution_count": 29,
   "metadata": {},
   "outputs": [],
   "source": [
    "# data cleanup\n",
    "dataframe[\"Title\"] = dataframe[\"Title\"].str.replace(\"\\n\\t\\t\\t\", \"\")"
   ]
  },
  {
   "cell_type": "code",
   "execution_count": 30,
   "metadata": {},
   "outputs": [
    {
     "data": {
      "text/plain": [
       "0    2022-12-22T17:37:10+03:00\n",
       "1    2022-12-22T15:33:00+03:00\n",
       "2    2022-12-22T15:09:34+03:00\n",
       "Name: Time, dtype: object"
      ]
     },
     "execution_count": 30,
     "metadata": {},
     "output_type": "execute_result"
    }
   ],
   "source": [
    "dataframe[\"Time\"].head(3)"
   ]
  },
  {
   "cell_type": "code",
   "execution_count": 39,
   "metadata": {},
   "outputs": [],
   "source": [
    "dataframe['Time'] = pd.to_datetime(dataframe['Time'], format=\"%Y-%m-%dT%H:%M:%S%z\")\n",
    "dataframe['Time'] = dataframe['Time'].apply(lambda x: x.replace(tzinfo=None) if x != None else x)"
   ]
  },
  {
   "cell_type": "code",
   "execution_count": 43,
   "metadata": {},
   "outputs": [
    {
     "data": {
      "text/html": [
       "<div>\n",
       "<style scoped>\n",
       "    .dataframe tbody tr th:only-of-type {\n",
       "        vertical-align: middle;\n",
       "    }\n",
       "\n",
       "    .dataframe tbody tr th {\n",
       "        vertical-align: top;\n",
       "    }\n",
       "\n",
       "    .dataframe thead th {\n",
       "        text-align: right;\n",
       "    }\n",
       "</style>\n",
       "<table border=\"1\" class=\"dataframe\">\n",
       "  <thead>\n",
       "    <tr style=\"text-align: right;\">\n",
       "      <th></th>\n",
       "      <th>Title</th>\n",
       "      <th>Time</th>\n",
       "      <th>Link</th>\n",
       "    </tr>\n",
       "  </thead>\n",
       "  <tbody>\n",
       "    <tr>\n",
       "      <th>0</th>\n",
       "      <td>Russian Army Chief Says Focus Is Now on Libera...</td>\n",
       "      <td>2022-12-22 17:37:10+03:00</td>\n",
       "      <td>https://www.themoscowtimes.com/2022/12/22/russ...</td>\n",
       "    </tr>\n",
       "    <tr>\n",
       "      <th>1</th>\n",
       "      <td>Documentaries on Russian Opposition, Climate C...</td>\n",
       "      <td>2022-12-22 15:33:00+03:00</td>\n",
       "      <td>https://www.themoscowtimes.com/2022/12/22/docu...</td>\n",
       "    </tr>\n",
       "    <tr>\n",
       "      <th>2</th>\n",
       "      <td>Georgia's Ailing Ex-Leader Saakashvili Appears...</td>\n",
       "      <td>2022-12-22 15:09:34+03:00</td>\n",
       "      <td>https://www.themoscowtimes.com/2022/12/22/geor...</td>\n",
       "    </tr>\n",
       "    <tr>\n",
       "      <th>3</th>\n",
       "      <td>Armenia PM Blames Russian Peacekeepers for Kar...</td>\n",
       "      <td>2022-12-22 14:30:00+03:00</td>\n",
       "      <td>https://www.themoscowtimes.com/2022/12/22/arme...</td>\n",
       "    </tr>\n",
       "    <tr>\n",
       "      <th>4</th>\n",
       "      <td>‘Empty Words’: Russian Officials Unswayed By Z...</td>\n",
       "      <td>2022-12-22 12:58:00+03:00</td>\n",
       "      <td>https://www.themoscowtimes.com/2022/12/22/empt...</td>\n",
       "    </tr>\n",
       "    <tr>\n",
       "      <th>5</th>\n",
       "      <td>Former Russian Space Chief Wounded in Ukraine ...</td>\n",
       "      <td>2022-12-22 10:54:00+03:00</td>\n",
       "      <td>https://www.themoscowtimes.com/2022/12/22/form...</td>\n",
       "    </tr>\n",
       "    <tr>\n",
       "      <th>6</th>\n",
       "      <td>Zelensky Says U.S. Aid Not 'Charity' on Triump...</td>\n",
       "      <td>2022-12-22 09:00:00+03:00</td>\n",
       "      <td>https://www.themoscowtimes.com/2022/12/22/us-t...</td>\n",
       "    </tr>\n",
       "  </tbody>\n",
       "</table>\n",
       "</div>"
      ],
      "text/plain": [
       "                                               Title  \\\n",
       "0  Russian Army Chief Says Focus Is Now on Libera...   \n",
       "1  Documentaries on Russian Opposition, Climate C...   \n",
       "2  Georgia's Ailing Ex-Leader Saakashvili Appears...   \n",
       "3  Armenia PM Blames Russian Peacekeepers for Kar...   \n",
       "4  ‘Empty Words’: Russian Officials Unswayed By Z...   \n",
       "5  Former Russian Space Chief Wounded in Ukraine ...   \n",
       "6  Zelensky Says U.S. Aid Not 'Charity' on Triump...   \n",
       "\n",
       "                       Time                                               Link  \n",
       "0 2022-12-22 17:37:10+03:00  https://www.themoscowtimes.com/2022/12/22/russ...  \n",
       "1 2022-12-22 15:33:00+03:00  https://www.themoscowtimes.com/2022/12/22/docu...  \n",
       "2 2022-12-22 15:09:34+03:00  https://www.themoscowtimes.com/2022/12/22/geor...  \n",
       "3 2022-12-22 14:30:00+03:00  https://www.themoscowtimes.com/2022/12/22/arme...  \n",
       "4 2022-12-22 12:58:00+03:00  https://www.themoscowtimes.com/2022/12/22/empt...  \n",
       "5 2022-12-22 10:54:00+03:00  https://www.themoscowtimes.com/2022/12/22/form...  \n",
       "6 2022-12-22 09:00:00+03:00  https://www.themoscowtimes.com/2022/12/22/us-t...  "
      ]
     },
     "execution_count": 43,
     "metadata": {},
     "output_type": "execute_result"
    }
   ],
   "source": [
    "dataframe"
   ]
  },
  {
   "cell_type": "code",
   "execution_count": 40,
   "metadata": {},
   "outputs": [
    {
     "data": {
      "text/html": [
       "<div>\n",
       "<style scoped>\n",
       "    .dataframe tbody tr th:only-of-type {\n",
       "        vertical-align: middle;\n",
       "    }\n",
       "\n",
       "    .dataframe tbody tr th {\n",
       "        vertical-align: top;\n",
       "    }\n",
       "\n",
       "    .dataframe thead th {\n",
       "        text-align: right;\n",
       "    }\n",
       "</style>\n",
       "<table border=\"1\" class=\"dataframe\">\n",
       "  <thead>\n",
       "    <tr style=\"text-align: right;\">\n",
       "      <th></th>\n",
       "      <th>Title</th>\n",
       "      <th>Time</th>\n",
       "      <th>Link</th>\n",
       "    </tr>\n",
       "  </thead>\n",
       "  <tbody>\n",
       "    <tr>\n",
       "      <th>0</th>\n",
       "      <td>Russian Army Chief Says Focus Is Now on Libera...</td>\n",
       "      <td>2022-12-22 17:37:10+03:00</td>\n",
       "      <td>https://www.themoscowtimes.com/2022/12/22/russ...</td>\n",
       "    </tr>\n",
       "    <tr>\n",
       "      <th>1</th>\n",
       "      <td>Documentaries on Russian Opposition, Climate C...</td>\n",
       "      <td>2022-12-22 15:33:00+03:00</td>\n",
       "      <td>https://www.themoscowtimes.com/2022/12/22/docu...</td>\n",
       "    </tr>\n",
       "    <tr>\n",
       "      <th>2</th>\n",
       "      <td>Georgia's Ailing Ex-Leader Saakashvili Appears...</td>\n",
       "      <td>2022-12-22 15:09:34+03:00</td>\n",
       "      <td>https://www.themoscowtimes.com/2022/12/22/geor...</td>\n",
       "    </tr>\n",
       "    <tr>\n",
       "      <th>3</th>\n",
       "      <td>Armenia PM Blames Russian Peacekeepers for Kar...</td>\n",
       "      <td>2022-12-22 14:30:00+03:00</td>\n",
       "      <td>https://www.themoscowtimes.com/2022/12/22/arme...</td>\n",
       "    </tr>\n",
       "    <tr>\n",
       "      <th>4</th>\n",
       "      <td>‘Empty Words’: Russian Officials Unswayed By Z...</td>\n",
       "      <td>2022-12-22 12:58:00+03:00</td>\n",
       "      <td>https://www.themoscowtimes.com/2022/12/22/empt...</td>\n",
       "    </tr>\n",
       "    <tr>\n",
       "      <th>5</th>\n",
       "      <td>Former Russian Space Chief Wounded in Ukraine ...</td>\n",
       "      <td>2022-12-22 10:54:00+03:00</td>\n",
       "      <td>https://www.themoscowtimes.com/2022/12/22/form...</td>\n",
       "    </tr>\n",
       "    <tr>\n",
       "      <th>6</th>\n",
       "      <td>Zelensky Says U.S. Aid Not 'Charity' on Triump...</td>\n",
       "      <td>2022-12-22 09:00:00+03:00</td>\n",
       "      <td>https://www.themoscowtimes.com/2022/12/22/us-t...</td>\n",
       "    </tr>\n",
       "  </tbody>\n",
       "</table>\n",
       "</div>"
      ],
      "text/plain": [
       "                                               Title  \\\n",
       "0  Russian Army Chief Says Focus Is Now on Libera...   \n",
       "1  Documentaries on Russian Opposition, Climate C...   \n",
       "2  Georgia's Ailing Ex-Leader Saakashvili Appears...   \n",
       "3  Armenia PM Blames Russian Peacekeepers for Kar...   \n",
       "4  ‘Empty Words’: Russian Officials Unswayed By Z...   \n",
       "5  Former Russian Space Chief Wounded in Ukraine ...   \n",
       "6  Zelensky Says U.S. Aid Not 'Charity' on Triump...   \n",
       "\n",
       "                       Time                                               Link  \n",
       "0 2022-12-22 17:37:10+03:00  https://www.themoscowtimes.com/2022/12/22/russ...  \n",
       "1 2022-12-22 15:33:00+03:00  https://www.themoscowtimes.com/2022/12/22/docu...  \n",
       "2 2022-12-22 15:09:34+03:00  https://www.themoscowtimes.com/2022/12/22/geor...  \n",
       "3 2022-12-22 14:30:00+03:00  https://www.themoscowtimes.com/2022/12/22/arme...  \n",
       "4 2022-12-22 12:58:00+03:00  https://www.themoscowtimes.com/2022/12/22/empt...  \n",
       "5 2022-12-22 10:54:00+03:00  https://www.themoscowtimes.com/2022/12/22/form...  \n",
       "6 2022-12-22 09:00:00+03:00  https://www.themoscowtimes.com/2022/12/22/us-t...  "
      ]
     },
     "execution_count": 40,
     "metadata": {},
     "output_type": "execute_result"
    }
   ],
   "source": [
    "dataframe"
   ]
  }
 ],
 "metadata": {
  "kernelspec": {
   "display_name": "deepLearning",
   "language": "python",
   "name": "python3"
  },
  "language_info": {
   "codemirror_mode": {
    "name": "ipython",
    "version": 3
   },
   "file_extension": ".py",
   "mimetype": "text/x-python",
   "name": "python",
   "nbconvert_exporter": "python",
   "pygments_lexer": "ipython3",
   "version": "3.9.13"
  },
  "orig_nbformat": 4,
  "vscode": {
   "interpreter": {
    "hash": "fda649757dd37c0723859eddd77b6b678d843ed521ea7a4e36b7c2ac53d24c7f"
   }
  }
 },
 "nbformat": 4,
 "nbformat_minor": 2
}
