{
 "cells": [
  {
   "cell_type": "code",
   "execution_count": 53,
   "metadata": {},
   "outputs": [],
   "source": [
    "import pandas as pd\n",
    "\n",
    "import requests\n",
    "from bs4 import BeautifulSoup\n",
    "\n",
    "import pandas\n",
    "import numpy as np\n",
    "\n",
    "import datetime\n",
    "from pytz import timezone\n",
    "import time\n",
    "from datetime import timedelta"
   ]
  },
  {
   "cell_type": "code",
   "execution_count": 54,
   "metadata": {},
   "outputs": [],
   "source": [
    "URL = 'https://www.reuters.com/news/archive/ukraine'"
   ]
  },
  {
   "cell_type": "code",
   "execution_count": 55,
   "metadata": {},
   "outputs": [],
   "source": [
    "html = requests.get(URL)"
   ]
  },
  {
   "cell_type": "code",
   "execution_count": 56,
   "metadata": {},
   "outputs": [
    {
     "data": {
      "text/plain": [
       "200"
      ]
     },
     "execution_count": 56,
     "metadata": {},
     "output_type": "execute_result"
    }
   ],
   "source": [
    "html.status_code"
   ]
  },
  {
   "cell_type": "code",
   "execution_count": 57,
   "metadata": {},
   "outputs": [],
   "source": [
    "soup = BeautifulSoup(html.text, 'html.parser')"
   ]
  },
  {
   "cell_type": "code",
   "execution_count": 58,
   "metadata": {},
   "outputs": [],
   "source": [
    "# create empty array\n",
    "headLineInfo = []\n",
    "\n",
    "# use for loop to write quotes in quotes_text with append\n",
    "for i in soup.find('div', {'class': 'column1 col col-10'}).find_all(\"div\", {\"class\": \"story-content\"}):\n",
    "    storyTitle = i.find('h3', {'class':'story-title'})\n",
    "    timeStamp = i.find('span', {'class':'timestamp'})\n",
    "    href = \"https://www.reuters.com\" + i.find('a', href=True).get(\"href\")\n",
    "\n",
    "    if(storyTitle is None):\n",
    "        storyTitle = None\n",
    "    else:\n",
    "        storyTitle = storyTitle.text\n",
    "    if(timeStamp is None):\n",
    "        timeStamp = None\n",
    "    else:\n",
    "        timeStamp = timeStamp.text\n",
    "    if(href is None):\n",
    "        href = None\n",
    "\n",
    "    headLineInfo.append([storyTitle, timeStamp, href])"
   ]
  },
  {
   "cell_type": "code",
   "execution_count": 59,
   "metadata": {},
   "outputs": [],
   "source": [
    "dataframe = pd.DataFrame(headLineInfo, columns=[\"Title\", \"Time\", \"Link\"])"
   ]
  },
  {
   "cell_type": "code",
   "execution_count": 60,
   "metadata": {},
   "outputs": [],
   "source": [
    "now_EST = datetime.datetime.today().astimezone(timezone('EST'))"
   ]
  },
  {
   "cell_type": "code",
   "execution_count": 61,
   "metadata": {},
   "outputs": [],
   "source": [
    "# data cleanup\n",
    "dataframe[\"Title\"] = dataframe[\"Title\"].str.replace(\"\\n\\t\\t\\t\\t\\t\\t\\t\\t\", \"\")\n",
    "dataframe[\"Time\"]  = dataframe['Time'].apply(lambda x: (str(now_EST.month) + \"/\" + str(now_EST.day) + \"/\" + str(now_EST.year) + \" \" + x.replace(\" EST\", \"\")) if x != None else np.nan)"
   ]
  },
  {
   "cell_type": "code",
   "execution_count": 62,
   "metadata": {},
   "outputs": [
    {
     "data": {
      "text/plain": [
       "0    12/22/2022 10:19am\n",
       "1    12/22/2022 10:05am\n",
       "2     12/22/2022 8:46am\n",
       "Name: Time, dtype: object"
      ]
     },
     "execution_count": 62,
     "metadata": {},
     "output_type": "execute_result"
    }
   ],
   "source": [
    "dataframe[\"Time\"].head(3)"
   ]
  },
  {
   "cell_type": "code",
   "execution_count": 63,
   "metadata": {},
   "outputs": [],
   "source": [
    "#convert time to utc\n",
    "dataframe['Time'] = pd.to_datetime(dataframe['Time'], format='%m/%d/%Y %I:%M%p')\n",
    "dataframe['Time'] = dataframe['Time'] + timedelta(hours = 5)"
   ]
  },
  {
   "cell_type": "code",
   "execution_count": 64,
   "metadata": {},
   "outputs": [
    {
     "data": {
      "text/html": [
       "<div>\n",
       "<style scoped>\n",
       "    .dataframe tbody tr th:only-of-type {\n",
       "        vertical-align: middle;\n",
       "    }\n",
       "\n",
       "    .dataframe tbody tr th {\n",
       "        vertical-align: top;\n",
       "    }\n",
       "\n",
       "    .dataframe thead th {\n",
       "        text-align: right;\n",
       "    }\n",
       "</style>\n",
       "<table border=\"1\" class=\"dataframe\">\n",
       "  <thead>\n",
       "    <tr style=\"text-align: right;\">\n",
       "      <th></th>\n",
       "      <th>Title</th>\n",
       "      <th>Time</th>\n",
       "      <th>Link</th>\n",
       "    </tr>\n",
       "  </thead>\n",
       "  <tbody>\n",
       "    <tr>\n",
       "      <th>0</th>\n",
       "      <td>U.S. Patriot system won't thwart Russia's plan...</td>\n",
       "      <td>2022-12-22 15:19:00</td>\n",
       "      <td>https://www.reuters.com/article/ukraine-crisis...</td>\n",
       "    </tr>\n",
       "    <tr>\n",
       "      <th>1</th>\n",
       "      <td>G7 commits to $32 billion in budget support fo...</td>\n",
       "      <td>2022-12-22 15:05:00</td>\n",
       "      <td>https://www.reuters.com/article/ukraine-crisis...</td>\n",
       "    </tr>\n",
       "    <tr>\n",
       "      <th>2</th>\n",
       "      <td>Russia's top military officer says Ukraine fro...</td>\n",
       "      <td>2022-12-22 13:46:00</td>\n",
       "      <td>https://www.reuters.com/article/ukraine-crisis...</td>\n",
       "    </tr>\n",
       "    <tr>\n",
       "      <th>3</th>\n",
       "      <td>Belarus's Lukashenko dismisses 'conspiracy the...</td>\n",
       "      <td>2022-12-22 12:29:00</td>\n",
       "      <td>https://www.reuters.com/article/ukraine-crisis...</td>\n",
       "    </tr>\n",
       "    <tr>\n",
       "      <th>4</th>\n",
       "      <td>Ukraine's 'cat and mouse' battle to keep Russi...</td>\n",
       "      <td>2022-12-22 12:12:00</td>\n",
       "      <td>https://www.reuters.com/article/ukraine-crisis...</td>\n",
       "    </tr>\n",
       "    <tr>\n",
       "      <th>5</th>\n",
       "      <td>Iran's clerical leaders to grapple with deepen...</td>\n",
       "      <td>2022-12-22 12:06:00</td>\n",
       "      <td>https://www.reuters.com/article/year-end-iran/...</td>\n",
       "    </tr>\n",
       "    <tr>\n",
       "      <th>6</th>\n",
       "      <td>Russia's war on Ukraine latest news: Moscow sa...</td>\n",
       "      <td>2022-12-22 11:58:00</td>\n",
       "      <td>https://www.reuters.com/article/ukraine-crisis...</td>\n",
       "    </tr>\n",
       "    <tr>\n",
       "      <th>7</th>\n",
       "      <td>Russia says Patriot missiles for Kyiv won't he...</td>\n",
       "      <td>2022-12-22 10:39:00</td>\n",
       "      <td>https://www.reuters.com/article/ukraine-crisis...</td>\n",
       "    </tr>\n",
       "    <tr>\n",
       "      <th>8</th>\n",
       "      <td>EU-Ukraine summit set for Feb 3, location not ...</td>\n",
       "      <td>2022-12-22 10:38:00</td>\n",
       "      <td>https://www.reuters.com/article/ukraine-crisis...</td>\n",
       "    </tr>\n",
       "    <tr>\n",
       "      <th>9</th>\n",
       "      <td>Rosatom says talks with IAEA on Zaporizhzhia n...</td>\n",
       "      <td>2022-12-22 09:42:00</td>\n",
       "      <td>https://www.reuters.com/article/ukraine-crisis...</td>\n",
       "    </tr>\n",
       "  </tbody>\n",
       "</table>\n",
       "</div>"
      ],
      "text/plain": [
       "                                               Title                Time  \\\n",
       "0  U.S. Patriot system won't thwart Russia's plan... 2022-12-22 15:19:00   \n",
       "1  G7 commits to $32 billion in budget support fo... 2022-12-22 15:05:00   \n",
       "2  Russia's top military officer says Ukraine fro... 2022-12-22 13:46:00   \n",
       "3  Belarus's Lukashenko dismisses 'conspiracy the... 2022-12-22 12:29:00   \n",
       "4  Ukraine's 'cat and mouse' battle to keep Russi... 2022-12-22 12:12:00   \n",
       "5  Iran's clerical leaders to grapple with deepen... 2022-12-22 12:06:00   \n",
       "6  Russia's war on Ukraine latest news: Moscow sa... 2022-12-22 11:58:00   \n",
       "7  Russia says Patriot missiles for Kyiv won't he... 2022-12-22 10:39:00   \n",
       "8  EU-Ukraine summit set for Feb 3, location not ... 2022-12-22 10:38:00   \n",
       "9  Rosatom says talks with IAEA on Zaporizhzhia n... 2022-12-22 09:42:00   \n",
       "\n",
       "                                                Link  \n",
       "0  https://www.reuters.com/article/ukraine-crisis...  \n",
       "1  https://www.reuters.com/article/ukraine-crisis...  \n",
       "2  https://www.reuters.com/article/ukraine-crisis...  \n",
       "3  https://www.reuters.com/article/ukraine-crisis...  \n",
       "4  https://www.reuters.com/article/ukraine-crisis...  \n",
       "5  https://www.reuters.com/article/year-end-iran/...  \n",
       "6  https://www.reuters.com/article/ukraine-crisis...  \n",
       "7  https://www.reuters.com/article/ukraine-crisis...  \n",
       "8  https://www.reuters.com/article/ukraine-crisis...  \n",
       "9  https://www.reuters.com/article/ukraine-crisis...  "
      ]
     },
     "execution_count": 64,
     "metadata": {},
     "output_type": "execute_result"
    }
   ],
   "source": [
    "dataframe"
   ]
  }
 ],
 "metadata": {
  "kernelspec": {
   "display_name": "deepLearning",
   "language": "python",
   "name": "python3"
  },
  "language_info": {
   "codemirror_mode": {
    "name": "ipython",
    "version": 3
   },
   "file_extension": ".py",
   "mimetype": "text/x-python",
   "name": "python",
   "nbconvert_exporter": "python",
   "pygments_lexer": "ipython3",
   "version": "3.9.13"
  },
  "orig_nbformat": 4,
  "vscode": {
   "interpreter": {
    "hash": "fda649757dd37c0723859eddd77b6b678d843ed521ea7a4e36b7c2ac53d24c7f"
   }
  }
 },
 "nbformat": 4,
 "nbformat_minor": 2
}
